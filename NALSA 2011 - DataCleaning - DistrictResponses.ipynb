{
 "cells": [
  {
   "cell_type": "code",
   "execution_count": 1,
   "metadata": {
    "collapsed": true
   },
   "outputs": [],
   "source": [
    "import pandas as pd\n",
    "import numpy as np\n",
    "import re\n",
    "import datetime\n",
    "from time import gmtime, strftime\n",
    "\n",
    "df = pd.read_excel(\"Copy of DK- NALSA 2011 Document 03_06_17 version.xlsx\", \"District Responses\", skiprows=1).fillna(\"NR\")"
   ]
  },
  {
   "cell_type": "code",
   "execution_count": 2,
   "metadata": {
    "collapsed": true
   },
   "outputs": [],
   "source": [
    "# renaming the column names in the NALSA 2011 file \n",
    "colnames =  ['STATE','DISTRICTS','NUM_VISITS_LWYR','NUM_TRAINING_DLSA_LWYR','NUM_DAYS_LEGALAID_PARA',\n",
    "             'NUM_TRAINING_DLSA_PRISONER_PARA', 'NUM_TRAINING_DLSA_COMMUNITY_PARA','SIGNBOARD']\n",
    "df.columns = colnames\n"
   ]
  },
  {
   "cell_type": "code",
   "execution_count": 3,
   "metadata": {},
   "outputs": [
    {
     "data": {
      "text/plain": [
       "(208, 8)"
      ]
     },
     "execution_count": 3,
     "metadata": {},
     "output_type": "execute_result"
    }
   ],
   "source": [
    "# shape of the dataset\n",
    "df.shape"
   ]
  },
  {
   "cell_type": "code",
   "execution_count": 4,
   "metadata": {},
   "outputs": [
    {
     "data": {
      "text/html": [
       "<div>\n",
       "<table border=\"1\" class=\"dataframe\">\n",
       "  <thead>\n",
       "    <tr style=\"text-align: right;\">\n",
       "      <th></th>\n",
       "      <th>STATE</th>\n",
       "      <th>DISTRICTS</th>\n",
       "      <th>NUM_VISITS_LWYR</th>\n",
       "      <th>NUM_TRAINING_DLSA_LWYR</th>\n",
       "      <th>NUM_DAYS_LEGALAID_PARA</th>\n",
       "      <th>NUM_TRAINING_DLSA_PRISONER_PARA</th>\n",
       "      <th>NUM_TRAINING_DLSA_COMMUNITY_PARA</th>\n",
       "      <th>SIGNBOARD</th>\n",
       "    </tr>\n",
       "  </thead>\n",
       "  <tbody>\n",
       "    <tr>\n",
       "      <th>0</th>\n",
       "      <td>KARNATAKA</td>\n",
       "      <td>KOLAR</td>\n",
       "      <td>48</td>\n",
       "      <td>0</td>\n",
       "      <td>0</td>\n",
       "      <td>0</td>\n",
       "      <td>0</td>\n",
       "      <td>YES</td>\n",
       "    </tr>\n",
       "    <tr>\n",
       "      <th>1</th>\n",
       "      <td>KARNATAKA</td>\n",
       "      <td>MANGALURU</td>\n",
       "      <td>46</td>\n",
       "      <td>Not Responded</td>\n",
       "      <td>0</td>\n",
       "      <td>0</td>\n",
       "      <td>0</td>\n",
       "      <td>YES</td>\n",
       "    </tr>\n",
       "    <tr>\n",
       "      <th>2</th>\n",
       "      <td>KARNATAKA</td>\n",
       "      <td>VIJAYAPURA</td>\n",
       "      <td>36</td>\n",
       "      <td>0</td>\n",
       "      <td>0</td>\n",
       "      <td>0</td>\n",
       "      <td>0</td>\n",
       "      <td>YES</td>\n",
       "    </tr>\n",
       "    <tr>\n",
       "      <th>3</th>\n",
       "      <td>KARNATAKA</td>\n",
       "      <td>MANDYA</td>\n",
       "      <td>96</td>\n",
       "      <td>0</td>\n",
       "      <td>Not Responded</td>\n",
       "      <td>NR</td>\n",
       "      <td>Not responded</td>\n",
       "      <td>YES</td>\n",
       "    </tr>\n",
       "    <tr>\n",
       "      <th>4</th>\n",
       "      <td>KARNATAKA</td>\n",
       "      <td>UDUPI</td>\n",
       "      <td>2</td>\n",
       "      <td>0</td>\n",
       "      <td>Not provided</td>\n",
       "      <td>0</td>\n",
       "      <td>Not provided</td>\n",
       "      <td>YES</td>\n",
       "    </tr>\n",
       "  </tbody>\n",
       "</table>\n",
       "</div>"
      ],
      "text/plain": [
       "        STATE    DISTRICTS NUM_VISITS_LWYR NUM_TRAINING_DLSA_LWYR  \\\n",
       "0  KARNATAKA        KOLAR               48                      0   \n",
       "1  KARNATAKA     MANGALURU              46          Not Responded   \n",
       "2  KARNATAKA   VIJAYAPURA               36                      0   \n",
       "3  KARNATAKA       MANDYA               96                      0   \n",
       "4  KARNATAKA         UDUPI               2                      0   \n",
       "\n",
       "  NUM_DAYS_LEGALAID_PARA NUM_TRAINING_DLSA_PRISONER_PARA  \\\n",
       "0                      0                               0   \n",
       "1                      0                               0   \n",
       "2                      0                               0   \n",
       "3          Not Responded                              NR   \n",
       "4           Not provided                               0   \n",
       "\n",
       "  NUM_TRAINING_DLSA_COMMUNITY_PARA SIGNBOARD  \n",
       "0                                0      YES   \n",
       "1                                0      YES   \n",
       "2                                0      YES   \n",
       "3                    Not responded      YES   \n",
       "4                     Not provided      YES   "
      ]
     },
     "execution_count": 4,
     "metadata": {},
     "output_type": "execute_result"
    }
   ],
   "source": [
    "# top 5 rows \n",
    "df.head()"
   ]
  },
  {
   "cell_type": "code",
   "execution_count": 5,
   "metadata": {},
   "outputs": [
    {
     "data": {
      "text/plain": [
       "Index(['STATE', 'DISTRICTS', 'NUM_VISITS_LWYR', 'NUM_TRAINING_DLSA_LWYR',\n",
       "       'NUM_DAYS_LEGALAID_PARA', 'NUM_TRAINING_DLSA_PRISONER_PARA',\n",
       "       'NUM_TRAINING_DLSA_COMMUNITY_PARA', 'SIGNBOARD'],\n",
       "      dtype='object')"
      ]
     },
     "execution_count": 5,
     "metadata": {},
     "output_type": "execute_result"
    }
   ],
   "source": [
    "# list of columns\n",
    "df.columns"
   ]
  },
  {
   "cell_type": "code",
   "execution_count": 6,
   "metadata": {
    "collapsed": true
   },
   "outputs": [],
   "source": [
    "rule_dict = {\"NA\":['N.A','NOT APPLICABLE','NOT APPLICABLE ','NA ','Not Applicable','Not Applicable ','N.A ','Not applicable'],\n",
    "             \"NP\":[' nan,','nan',' nan','Nil','ATTACHED','Cumm','Cumm Response','Data not collated','DATA NOT MAINTAINED',\n",
    "                                      'DOES NOT ARISE','INFO. PERTAINS TO COURTS','INFOMATION PERTAINS TO COURTS',\n",
    "                                      'INFORMATION NOT AVAILABLE','NIL','No','NO MAINTAINED','NO OF STAFF PROVIDED',\n",
    "                                      'NO RECORD AVAILBALE','NO SUCH DATA MAINTAINED','None','Not available','NOT COMPILED',\n",
    "                                      'Not constituted','NOT COUNTED','NOT KNOWN','NOT MAINTAINED','Not Provided',\n",
    "                                      'NOT REPORTED','NOT SUBMITTED BY PANEL LAWYER','PENDING','RECVIED THROUGH SDLSCs',\n",
    "                                      'REPORT NOT RECEIVED','Response not clear','ATTACHED ',\n",
    "                                      'THE SERVICE OF JUNIOR ADMINISTRATIVE ASSISTANT WHO ATTACHED TO DLSAs ABOVE IS UTILIZED',\n",
    "                                      'To check','To check attachment','Not provided','NOT AVAILABLE','NOT COMPILED ',\n",
    "                   'NOT AVAILABLE ','NOT COUNTED ','NOT KNOWN ','INFOMATION PERTAINS TO COURTS ','PENDING ','NOT REPORTED ',\n",
    "                   'REPORT NOT RECEIVED ','INFORMATION NOT AVAILABLE ','DATA NOT COLLATED ', 'NOT SUBMITTED BY PANEL LAWYER ', \n",
    "                   'PA on rotation','DATA IS NOT AVAILABLE '], \n",
    "             \"NR\":['No Response','Not responded','Not Responded','No response','-']}"
   ]
  },
  {
   "cell_type": "code",
   "execution_count": 7,
   "metadata": {
    "collapsed": true,
    "scrolled": true
   },
   "outputs": [],
   "source": [
    "# creationg a dictionary of column names and there string values\n",
    "str_values_by_columns = {}\n",
    "\n",
    "for cols in df.columns:\n",
    "    str_values_by_columns[cols] = [val for val in df[cols].unique() if not str(val).isdigit()]\n",
    "    \n",
    "# list of sub-strings to be mapped as NA values - 0/Yes - 1/monthly - 12/ bimonthly - 6/ Quarterly - 4 \n",
    "##nvals = ['NOT','N.A','NO','NIL','NAN','ATTACH','CHECK','PENDING','PERTAIN','CUMM']\n",
    "yvals = ['YES']\n",
    "# list of strings containing the sub-strings (to be replaced in data)\n",
    "##na_str_val = []\n",
    "yes_str_val = []\n",
    "\n",
    "# creating list of strings to be replaced\n",
    "for k in str_values_by_columns.keys():\n",
    "    if k not in ['STATE','DISTRICTS',]:\n",
    "        #na_str_val = na_str_val + [x for x in str_values_by_columns[k] if any(nv.lower() in str(x).lower() for nv in nvals)]\n",
    "        yes_str_val = yes_str_val + [x for x in str_values_by_columns[k] if any(yv.lower() in str(x).lower() for yv in yvals)]\n",
    "\n",
    "# replacing the the list of string with there respective values\n",
    "for cols in df.columns:\n",
    "    #replacing strings with NA values to 0\n",
    "    ##df[cols][df[cols].isin(list(set(na_str_val)))] = 0\n",
    "    for k in rule_dict.keys():\n",
    "        df[cols][df[cols].isin(rule_dict[k])] = k\n",
    "    #replacing strings with YES values to 1\n",
    "    df[cols][df[cols].isin(list(set(yes_str_val)))] = 1\n"
   ]
  },
  {
   "cell_type": "code",
   "execution_count": 8,
   "metadata": {
    "collapsed": true
   },
   "outputs": [],
   "source": [
    "# function calculates the sum of all numbers in a strin (i.e. composition of Panel/Monitoring comitte)\n",
    "def calcNum(panelVal):\n",
    "    if type(panelVal) == int:\n",
    "        return panelVal\n",
    "    elif panelVal in ['NP','NR','NA']:\n",
    "        return panelVal\n",
    "    else:\n",
    "        return sum([int(s) for s in re.findall(r'\\b\\d+\\b', panelVal)])"
   ]
  },
  {
   "cell_type": "code",
   "execution_count": 9,
   "metadata": {},
   "outputs": [],
   "source": [
    "# NUM_LWYR_PANEL_TOT & NUM_MNTRNG_COMTT_STAFF contain sum of total number of members on the panels/committe\n",
    "df.NUM_VISITS_LWYR = df.NUM_VISITS_LWYR.apply(lambda x: calcNum(x))\n",
    "df.NUM_TRAINING_DLSA_LWYR = df.NUM_TRAINING_DLSA_LWYR.apply(lambda x: calcNum(x))\n",
    "df.NUM_DAYS_LEGALAID_PARA = df.NUM_DAYS_LEGALAID_PARA.apply(lambda x: calcNum(x))\n",
    "df.NUM_TRAINING_DLSA_PRISONER_PARA = df.NUM_TRAINING_DLSA_PRISONER_PARA.apply(lambda x: calcNum(x))"
   ]
  },
  {
   "cell_type": "code",
   "execution_count": 10,
   "metadata": {},
   "outputs": [],
   "source": [
    "# replacing all strings other than NP NR NA withe zero\n",
    "for cols in df.columns:\n",
    "    if cols not in ['STATE','DISTRICTS',]:\n",
    "        df[cols][df[cols].isin([val for val in df[cols].unique() if not str(val).isdigit() and val not in ['NP','NR','NA']])] = 0    "
   ]
  },
  {
   "cell_type": "code",
   "execution_count": 11,
   "metadata": {},
   "outputs": [
    {
     "name": "stdout",
     "output_type": "stream",
     "text": [
      "NUM_VISITS_LWYR ['NP', 'NR']\n",
      "NUM_TRAINING_DLSA_LWYR ['NR', 'NP']\n",
      "NUM_DAYS_LEGALAID_PARA ['NR', 'NP']\n",
      "NUM_TRAINING_DLSA_PRISONER_PARA ['NR', 'NP']\n",
      "NUM_TRAINING_DLSA_COMMUNITY_PARA ['NR', 'NP']\n",
      "SIGNBOARD ['NR', 'NP']\n"
     ]
    }
   ],
   "source": [
    "# checking for any un-treated string values in the dataset\n",
    "str_values_by_columns_check = {}\n",
    "for cols in df.columns:\n",
    "    str_values_by_columns_check[cols] = [val for val in df[cols].unique() if not str(val).isdigit() ]\n",
    "for k in str_values_by_columns_check.keys():\n",
    "    if k not in ['STATE','DISTRICTS',]:\n",
    "        print (k, str_values_by_columns_check[k])"
   ]
  },
  {
   "cell_type": "code",
   "execution_count": 12,
   "metadata": {
    "scrolled": true
   },
   "outputs": [
    {
     "data": {
      "text/html": [
       "<div>\n",
       "<table border=\"1\" class=\"dataframe\">\n",
       "  <thead>\n",
       "    <tr style=\"text-align: right;\">\n",
       "      <th></th>\n",
       "      <th>STATE</th>\n",
       "      <th>DISTRICTS</th>\n",
       "      <th>NUM_VISITS_LWYR</th>\n",
       "      <th>NUM_TRAINING_DLSA_LWYR</th>\n",
       "      <th>NUM_DAYS_LEGALAID_PARA</th>\n",
       "      <th>NUM_TRAINING_DLSA_PRISONER_PARA</th>\n",
       "      <th>NUM_TRAINING_DLSA_COMMUNITY_PARA</th>\n",
       "      <th>SIGNBOARD</th>\n",
       "    </tr>\n",
       "  </thead>\n",
       "  <tbody>\n",
       "    <tr>\n",
       "      <th>0</th>\n",
       "      <td>KARNATAKA</td>\n",
       "      <td>KOLAR</td>\n",
       "      <td>48</td>\n",
       "      <td>0</td>\n",
       "      <td>0</td>\n",
       "      <td>0</td>\n",
       "      <td>0</td>\n",
       "      <td>1</td>\n",
       "    </tr>\n",
       "    <tr>\n",
       "      <th>1</th>\n",
       "      <td>KARNATAKA</td>\n",
       "      <td>MANGALURU</td>\n",
       "      <td>46</td>\n",
       "      <td>NR</td>\n",
       "      <td>0</td>\n",
       "      <td>0</td>\n",
       "      <td>0</td>\n",
       "      <td>1</td>\n",
       "    </tr>\n",
       "    <tr>\n",
       "      <th>2</th>\n",
       "      <td>KARNATAKA</td>\n",
       "      <td>VIJAYAPURA</td>\n",
       "      <td>36</td>\n",
       "      <td>0</td>\n",
       "      <td>0</td>\n",
       "      <td>0</td>\n",
       "      <td>0</td>\n",
       "      <td>1</td>\n",
       "    </tr>\n",
       "    <tr>\n",
       "      <th>3</th>\n",
       "      <td>KARNATAKA</td>\n",
       "      <td>MANDYA</td>\n",
       "      <td>96</td>\n",
       "      <td>0</td>\n",
       "      <td>NR</td>\n",
       "      <td>NR</td>\n",
       "      <td>NR</td>\n",
       "      <td>1</td>\n",
       "    </tr>\n",
       "    <tr>\n",
       "      <th>4</th>\n",
       "      <td>KARNATAKA</td>\n",
       "      <td>UDUPI</td>\n",
       "      <td>2</td>\n",
       "      <td>0</td>\n",
       "      <td>NP</td>\n",
       "      <td>0</td>\n",
       "      <td>NP</td>\n",
       "      <td>1</td>\n",
       "    </tr>\n",
       "  </tbody>\n",
       "</table>\n",
       "</div>"
      ],
      "text/plain": [
       "       STATE    DISTRICTS NUM_VISITS_LWYR NUM_TRAINING_DLSA_LWYR  \\\n",
       "0  KARNATAKA       KOLAR               48                      0   \n",
       "1  KARNATAKA    MANGALURU              46                     NR   \n",
       "2  KARNATAKA  VIJAYAPURA               36                      0   \n",
       "3  KARNATAKA      MANDYA               96                      0   \n",
       "4  KARNATAKA        UDUPI               2                      0   \n",
       "\n",
       "  NUM_DAYS_LEGALAID_PARA NUM_TRAINING_DLSA_PRISONER_PARA  \\\n",
       "0                      0                               0   \n",
       "1                      0                               0   \n",
       "2                      0                               0   \n",
       "3                     NR                              NR   \n",
       "4                     NP                               0   \n",
       "\n",
       "  NUM_TRAINING_DLSA_COMMUNITY_PARA SIGNBOARD  \n",
       "0                                0         1  \n",
       "1                                0         1  \n",
       "2                                0         1  \n",
       "3                               NR         1  \n",
       "4                               NP         1  "
      ]
     },
     "execution_count": 12,
     "metadata": {},
     "output_type": "execute_result"
    }
   ],
   "source": [
    "#cleaning for STATE names and removing duplicates in DISTRICT\n",
    "df.STATE[df.STATE.isin(['ANDRHA PRADESH '])] = 'ANDHRA PRADESH '\n",
    "df.STATE[df.STATE.isin(['JHARKHNAD '])] = 'JHARKHAND'\n",
    "df.STATE[df.STATE.isin(['MAHARASTRA '])] = 'MAHARASHTRA '\n",
    "df.STATE[df.STATE.isin(['PANJAB'])] = 'PUNJAB'\n",
    "df.STATE[df.STATE.isin(['PANJAB '])] = 'PUNJAB'\n",
    "\n",
    "df.STATE = df.STATE.str.strip()\n",
    "\n",
    "# exporting to csv\n",
    "df.to_csv(\"NALSA_2011_DistResp_cleaned_\"+re.sub(r' |:', '-', strftime(\"%Y-%m-%d %H:%M:%S\", gmtime()))+\".csv\")\n",
    "df.head()"
   ]
  },
  {
   "cell_type": "code",
   "execution_count": null,
   "metadata": {
    "collapsed": true
   },
   "outputs": [],
   "source": []
  }
 ],
 "metadata": {
  "kernelspec": {
   "display_name": "Python 3",
   "language": "python",
   "name": "python3"
  },
  "language_info": {
   "codemirror_mode": {
    "name": "ipython",
    "version": 3
   },
   "file_extension": ".py",
   "mimetype": "text/x-python",
   "name": "python",
   "nbconvert_exporter": "python",
   "pygments_lexer": "ipython3",
   "version": "3.6.1"
  }
 },
 "nbformat": 4,
 "nbformat_minor": 2
}
