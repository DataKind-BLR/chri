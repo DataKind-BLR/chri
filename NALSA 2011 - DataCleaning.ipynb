{
 "cells": [
  {
   "cell_type": "code",
   "execution_count": 1,
   "metadata": {
    "collapsed": true
   },
   "outputs": [],
   "source": [
    "import pandas as pd\n",
    "import numpy as np\n",
    "import re\n",
    "import datetime\n",
    "from time import gmtime, strftime\n",
    "\n",
    "df = pd.read_excel(\"Copy of DK- NALSA 2011 Document 03_06_17 version.xlsx\", skiprows=1).fillna(\"NR\")"
   ]
  },
  {
   "cell_type": "code",
   "execution_count": 2,
   "metadata": {},
   "outputs": [],
   "source": [
    "# renaming the column names in the NALSA 2011 file \n",
    "colnames =  ['STATE','DISTRICTS','LEGALAID_JAILS','JAIL_NAME','LEGALAID_CONSTI','DATE_LEGALAID','NUM_LWYR_VISITING',\n",
    "             'NUM_PARALEGAL_PRISONER','NUM_PARALEGAL_COMMUNITY']\n",
    "df.columns = colnames\n"
   ]
  },
  {
   "cell_type": "code",
   "execution_count": 3,
   "metadata": {},
   "outputs": [
    {
     "data": {
      "text/plain": [
       "(379, 9)"
      ]
     },
     "execution_count": 3,
     "metadata": {},
     "output_type": "execute_result"
    }
   ],
   "source": [
    "# shape of the dataset\n",
    "df.shape"
   ]
  },
  {
   "cell_type": "code",
   "execution_count": 4,
   "metadata": {},
   "outputs": [
    {
     "data": {
      "text/html": [
       "<div>\n",
       "<table border=\"1\" class=\"dataframe\">\n",
       "  <thead>\n",
       "    <tr style=\"text-align: right;\">\n",
       "      <th></th>\n",
       "      <th>STATE</th>\n",
       "      <th>DISTRICTS</th>\n",
       "      <th>LEGALAID_JAILS</th>\n",
       "      <th>JAIL_NAME</th>\n",
       "      <th>LEGALAID_CONSTI</th>\n",
       "      <th>DATE_LEGALAID</th>\n",
       "      <th>NUM_LWYR_VISITING</th>\n",
       "      <th>NUM_PARALEGAL_PRISONER</th>\n",
       "      <th>NUM_PARALEGAL_COMMUNITY</th>\n",
       "    </tr>\n",
       "  </thead>\n",
       "  <tbody>\n",
       "    <tr>\n",
       "      <th>0</th>\n",
       "      <td>TELANGANA</td>\n",
       "      <td>NIZAMABAD</td>\n",
       "      <td>DISTRICT JAIL</td>\n",
       "      <td>NIZAMABAD</td>\n",
       "      <td>YES</td>\n",
       "      <td>2011-03-25 00:00:00</td>\n",
       "      <td>40</td>\n",
       "      <td>Not responded</td>\n",
       "      <td>Not responded</td>\n",
       "    </tr>\n",
       "    <tr>\n",
       "      <th>1</th>\n",
       "      <td>TELANGANA</td>\n",
       "      <td>NIZAMABAD</td>\n",
       "      <td>SUB JAIL</td>\n",
       "      <td>ARMOOR</td>\n",
       "      <td>YES</td>\n",
       "      <td>2015-09-05 00:00:00</td>\n",
       "      <td>29</td>\n",
       "      <td>Not responded</td>\n",
       "      <td>Not responded</td>\n",
       "    </tr>\n",
       "    <tr>\n",
       "      <th>2</th>\n",
       "      <td>TELANGANA</td>\n",
       "      <td>NIZAMABAD</td>\n",
       "      <td>SUB JAIL</td>\n",
       "      <td>KAMAREDDY</td>\n",
       "      <td>YES</td>\n",
       "      <td>2015-09-05 00:00:00</td>\n",
       "      <td>25</td>\n",
       "      <td>Not responded</td>\n",
       "      <td>Not responded</td>\n",
       "    </tr>\n",
       "    <tr>\n",
       "      <th>3</th>\n",
       "      <td>TELANGANA</td>\n",
       "      <td>NIZAMABAD</td>\n",
       "      <td>SUB JAIL</td>\n",
       "      <td>BODHAN</td>\n",
       "      <td>YES</td>\n",
       "      <td>2015-09-05 00:00:00</td>\n",
       "      <td>28</td>\n",
       "      <td>Not responded</td>\n",
       "      <td>Not responded</td>\n",
       "    </tr>\n",
       "    <tr>\n",
       "      <th>4</th>\n",
       "      <td>KARNATAKA</td>\n",
       "      <td>KOLAR</td>\n",
       "      <td>DISTRICT JAIL</td>\n",
       "      <td>DISTRICT SUB JAIL, KOLAR</td>\n",
       "      <td>YES</td>\n",
       "      <td>2016-02-01 00:00:00</td>\n",
       "      <td>1</td>\n",
       "      <td>0</td>\n",
       "      <td>0</td>\n",
       "    </tr>\n",
       "  </tbody>\n",
       "</table>\n",
       "</div>"
      ],
      "text/plain": [
       "        STATE  DISTRICTS LEGALAID_JAILS                  JAIL_NAME  \\\n",
       "0   TELANGANA  NIZAMABAD  DISTRICT JAIL                  NIZAMABAD   \n",
       "1   TELANGANA  NIZAMABAD       SUB JAIL                     ARMOOR   \n",
       "2   TELANGANA  NIZAMABAD       SUB JAIL                  KAMAREDDY   \n",
       "3   TELANGANA  NIZAMABAD       SUB JAIL                     BODHAN   \n",
       "4  KARNATAKA       KOLAR  DISTRICT JAIL  DISTRICT SUB JAIL, KOLAR    \n",
       "\n",
       "  LEGALAID_CONSTI        DATE_LEGALAID NUM_LWYR_VISITING  \\\n",
       "0             YES  2011-03-25 00:00:00                40   \n",
       "1             YES  2015-09-05 00:00:00                29   \n",
       "2             YES  2015-09-05 00:00:00                25   \n",
       "3             YES  2015-09-05 00:00:00                28   \n",
       "4            YES   2016-02-01 00:00:00                 1   \n",
       "\n",
       "  NUM_PARALEGAL_PRISONER NUM_PARALEGAL_COMMUNITY  \n",
       "0          Not responded           Not responded  \n",
       "1          Not responded           Not responded  \n",
       "2          Not responded           Not responded  \n",
       "3          Not responded           Not responded  \n",
       "4                      0                       0  "
      ]
     },
     "execution_count": 4,
     "metadata": {},
     "output_type": "execute_result"
    }
   ],
   "source": [
    "# top 5 rows \n",
    "df.head()"
   ]
  },
  {
   "cell_type": "code",
   "execution_count": 5,
   "metadata": {},
   "outputs": [
    {
     "data": {
      "text/plain": [
       "Index(['STATE', 'DISTRICTS', 'LEGALAID_JAILS', 'JAIL_NAME', 'LEGALAID_CONSTI',\n",
       "       'DATE_LEGALAID', 'NUM_LWYR_VISITING', 'NUM_PARALEGAL_PRISONER',\n",
       "       'NUM_PARALEGAL_COMMUNITY'],\n",
       "      dtype='object')"
      ]
     },
     "execution_count": 5,
     "metadata": {},
     "output_type": "execute_result"
    }
   ],
   "source": [
    "# list of columns\n",
    "df.columns"
   ]
  },
  {
   "cell_type": "code",
   "execution_count": 6,
   "metadata": {
    "collapsed": true
   },
   "outputs": [],
   "source": [
    "rule_dict = {\"NA\":['N.A','NOT APPLICABLE','NOT APPLICABLE ','NA ','Not Applicable','Not Applicable ','N.A ','Not applicable'],\n",
    "             \"NP\":[' nan,','nan',' nan','Nil','ATTACHED','Cumm','Cumm Response','Data not collated','DATA NOT MAINTAINED',\n",
    "                                      'DOES NOT ARISE','INFO. PERTAINS TO COURTS','INFOMATION PERTAINS TO COURTS',\n",
    "                                      'INFORMATION NOT AVAILABLE','NIL','No','NO MAINTAINED','NO OF STAFF PROVIDED',\n",
    "                                      'NO RECORD AVAILBALE','NO SUCH DATA MAINTAINED','None','Not available','NOT COMPILED',\n",
    "                                      'Not constituted','NOT COUNTED','NOT KNOWN','NOT MAINTAINED','Not Provided',\n",
    "                                      'NOT REPORTED','NOT SUBMITTED BY PANEL LAWYER','PENDING','RECVIED THROUGH SDLSCs',\n",
    "                                      'REPORT NOT RECEIVED','Response not clear','ATTACHED ',\n",
    "                                      'THE SERVICE OF JUNIOR ADMINISTRATIVE ASSISTANT WHO ATTACHED TO DLSAs ABOVE IS UTILIZED',\n",
    "                                      'To check','To check attachment','Not provided','NOT AVAILABLE','NOT COMPILED ',\n",
    "                   'NOT AVAILABLE ','NOT COUNTED ','NOT KNOWN ','INFOMATION PERTAINS TO COURTS ','PENDING ','NOT REPORTED ',\n",
    "                   'REPORT NOT RECEIVED ','INFORMATION NOT AVAILABLE ','DATA NOT COLLATED ', 'NOT SUBMITTED BY PANEL LAWYER ', \n",
    "                   'PA on rotation','DATA IS NOT AVAILABLE '], \n",
    "             \"NR\":['No Response','Not responded','Not Responded','No response','-']}"
   ]
  },
  {
   "cell_type": "code",
   "execution_count": 7,
   "metadata": {
    "scrolled": true
   },
   "outputs": [],
   "source": [
    "# creationg a dictionary of column names and there string values\n",
    "str_values_by_columns = {}\n",
    "\n",
    "for cols in df.columns:\n",
    "    str_values_by_columns[cols] = [val for val in df[cols].unique() if not str(val).isdigit()]\n",
    "    \n",
    "# list of sub-strings to be mapped as NA values - 0/Yes - 1/monthly - 12/ bimonthly - 6/ Quarterly - 4 \n",
    "##nvals = ['NOT','N.A','NO','NIL','NAN','ATTACH','CHECK','PENDING','PERTAIN','CUMM']\n",
    "yvals = ['YES']\n",
    "# list of strings containing the sub-strings (to be replaced in data)\n",
    "##na_str_val = []\n",
    "yes_str_val = []\n",
    "\n",
    "# creating list of strings to be replaced\n",
    "for k in str_values_by_columns.keys():\n",
    "    if k not in ['STATE','DISTRICTS',]:\n",
    "        #na_str_val = na_str_val + [x for x in str_values_by_columns[k] if any(nv.lower() in str(x).lower() for nv in nvals)]\n",
    "        yes_str_val = yes_str_val + [x for x in str_values_by_columns[k] if any(yv.lower() in str(x).lower() for yv in yvals)]\n",
    "\n",
    "# replacing the the list of string with there respective values\n",
    "for cols in df.columns:\n",
    "    #replacing strings with NA values to 0\n",
    "    ##df[cols][df[cols].isin(list(set(na_str_val)))] = 0\n",
    "    for k in rule_dict.keys():\n",
    "        df[cols][df[cols].isin(rule_dict[k])] = k\n",
    "    #replacing strings with YES values to 1\n",
    "    df[cols][df[cols].isin(list(set(yes_str_val)))] = 1\n"
   ]
  },
  {
   "cell_type": "code",
   "execution_count": 8,
   "metadata": {},
   "outputs": [],
   "source": [
    "# replacing all strings other than NP NR NA withe zero\n",
    "for cols in df.columns:\n",
    "    if cols not in ['STATE','DISTRICTS','LEGALAID_JAILS','JAIL_NAME','DATE_LEGALAID']:\n",
    "        df[cols][df[cols].isin([val for val in df[cols].unique() if not str(val).isdigit() and val not in ['NP','NR','NA']])] = 0    "
   ]
  },
  {
   "cell_type": "code",
   "execution_count": 9,
   "metadata": {
    "collapsed": true
   },
   "outputs": [],
   "source": [
    "# extracting year from monitoring committee constitution date\n",
    "def yearLEGALAID(x):\n",
    "    if type(x) == datetime.datetime:\n",
    "        return x.year\n",
    "    elif (type(x)!= int) and (re.search(r'-|/' ,x)):\n",
    "        return \"20\"+str(re.sub(r' |,','',x)[-2:])\n",
    "    else:\n",
    "        return x\n",
    "        \n",
    "df['YR_LEGALAID'] = df.DATE_LEGALAID.apply(lambda x : yearLEGALAID(x))\n",
    "df['YR_LEGALAID'][df['YR_LEGALAID'].isin(['2051','20D)'])] = 2015\n",
    "df['YR_LEGALAID'][df['YR_LEGALAID'].isin(['IN THE YEAR 2013','DURING JULY 2013'])] = 2013\n",
    "df['YR_LEGALAID'][df['YR_LEGALAID'].isin(['JUNE , 2012'])] = 2013"
   ]
  },
  {
   "cell_type": "code",
   "execution_count": 10,
   "metadata": {},
   "outputs": [
    {
     "name": "stdout",
     "output_type": "stream",
     "text": [
      "LEGALAID_CONSTI ['NR', 'NP']\n",
      "NUM_LWYR_VISITING ['NR', 'NP']\n",
      "NUM_PARALEGAL_PRISONER ['NR', 'NP']\n",
      "NUM_PARALEGAL_COMMUNITY ['NR', 'NP']\n",
      "YR_LEGALAID ['NR', 'NA', 'NP']\n"
     ]
    }
   ],
   "source": [
    "# checking for any un-treated string values in the dataset\n",
    "str_values_by_columns_check = {}\n",
    "for cols in df.columns:\n",
    "    str_values_by_columns_check[cols] = [val for val in df[cols].unique() if not str(val).isdigit() ]\n",
    "for k in str_values_by_columns_check.keys():\n",
    "    if k not in ['STATE','DISTRICTS','LEGALAID_JAILS','JAIL_NAME','DATE_LEGALAID']:\n",
    "        print (k, str_values_by_columns_check[k])"
   ]
  },
  {
   "cell_type": "code",
   "execution_count": 11,
   "metadata": {
    "scrolled": true
   },
   "outputs": [
    {
     "data": {
      "text/html": [
       "<div>\n",
       "<table border=\"1\" class=\"dataframe\">\n",
       "  <thead>\n",
       "    <tr style=\"text-align: right;\">\n",
       "      <th></th>\n",
       "      <th>STATE</th>\n",
       "      <th>DISTRICTS</th>\n",
       "      <th>LEGALAID_JAILS</th>\n",
       "      <th>JAIL_NAME</th>\n",
       "      <th>LEGALAID_CONSTI</th>\n",
       "      <th>NUM_LWYR_VISITING</th>\n",
       "      <th>NUM_PARALEGAL_PRISONER</th>\n",
       "      <th>NUM_PARALEGAL_COMMUNITY</th>\n",
       "      <th>YR_LEGALAID</th>\n",
       "    </tr>\n",
       "  </thead>\n",
       "  <tbody>\n",
       "    <tr>\n",
       "      <th>0</th>\n",
       "      <td>TELANGANA</td>\n",
       "      <td>NIZAMABAD</td>\n",
       "      <td>DISTRICT JAIL</td>\n",
       "      <td>NIZAMABAD</td>\n",
       "      <td>1</td>\n",
       "      <td>40</td>\n",
       "      <td>NR</td>\n",
       "      <td>NR</td>\n",
       "      <td>2011</td>\n",
       "    </tr>\n",
       "    <tr>\n",
       "      <th>1</th>\n",
       "      <td>TELANGANA</td>\n",
       "      <td>NIZAMABAD</td>\n",
       "      <td>SUB JAIL</td>\n",
       "      <td>ARMOOR</td>\n",
       "      <td>1</td>\n",
       "      <td>29</td>\n",
       "      <td>NR</td>\n",
       "      <td>NR</td>\n",
       "      <td>2015</td>\n",
       "    </tr>\n",
       "    <tr>\n",
       "      <th>2</th>\n",
       "      <td>TELANGANA</td>\n",
       "      <td>NIZAMABAD</td>\n",
       "      <td>SUB JAIL</td>\n",
       "      <td>KAMAREDDY</td>\n",
       "      <td>1</td>\n",
       "      <td>25</td>\n",
       "      <td>NR</td>\n",
       "      <td>NR</td>\n",
       "      <td>2015</td>\n",
       "    </tr>\n",
       "    <tr>\n",
       "      <th>3</th>\n",
       "      <td>TELANGANA</td>\n",
       "      <td>NIZAMABAD</td>\n",
       "      <td>SUB JAIL</td>\n",
       "      <td>BODHAN</td>\n",
       "      <td>1</td>\n",
       "      <td>28</td>\n",
       "      <td>NR</td>\n",
       "      <td>NR</td>\n",
       "      <td>2015</td>\n",
       "    </tr>\n",
       "    <tr>\n",
       "      <th>4</th>\n",
       "      <td>KARNATAKA</td>\n",
       "      <td>KOLAR</td>\n",
       "      <td>DISTRICT JAIL</td>\n",
       "      <td>DISTRICT SUB JAIL, KOLAR</td>\n",
       "      <td>1</td>\n",
       "      <td>1</td>\n",
       "      <td>0</td>\n",
       "      <td>0</td>\n",
       "      <td>2016</td>\n",
       "    </tr>\n",
       "  </tbody>\n",
       "</table>\n",
       "</div>"
      ],
      "text/plain": [
       "        STATE  DISTRICTS LEGALAID_JAILS                  JAIL_NAME  \\\n",
       "0   TELANGANA  NIZAMABAD  DISTRICT JAIL                  NIZAMABAD   \n",
       "1   TELANGANA  NIZAMABAD       SUB JAIL                     ARMOOR   \n",
       "2   TELANGANA  NIZAMABAD       SUB JAIL                  KAMAREDDY   \n",
       "3   TELANGANA  NIZAMABAD       SUB JAIL                     BODHAN   \n",
       "4  KARNATAKA       KOLAR  DISTRICT JAIL  DISTRICT SUB JAIL, KOLAR    \n",
       "\n",
       "  LEGALAID_CONSTI NUM_LWYR_VISITING NUM_PARALEGAL_PRISONER  \\\n",
       "0               1                40                     NR   \n",
       "1               1                29                     NR   \n",
       "2               1                25                     NR   \n",
       "3               1                28                     NR   \n",
       "4               1                 1                      0   \n",
       "\n",
       "  NUM_PARALEGAL_COMMUNITY YR_LEGALAID  \n",
       "0                      NR        2011  \n",
       "1                      NR        2015  \n",
       "2                      NR        2015  \n",
       "3                      NR        2015  \n",
       "4                       0        2016  "
      ]
     },
     "execution_count": 11,
     "metadata": {},
     "output_type": "execute_result"
    }
   ],
   "source": [
    "df.drop(['DATE_LEGALAID'],inplace=True, axis=1)\n",
    "# exporting to csv\n",
    "df.to_csv(\"NALSA_2011_cleaned_\"+re.sub(r' |:', '-', strftime(\"%Y-%m-%d %H:%M:%S\", gmtime()))+\".csv\")\n",
    "df.head()"
   ]
  },
  {
   "cell_type": "code",
   "execution_count": null,
   "metadata": {
    "collapsed": true
   },
   "outputs": [],
   "source": []
  }
 ],
 "metadata": {
  "kernelspec": {
   "display_name": "Python 3",
   "language": "python",
   "name": "python3"
  },
  "language_info": {
   "codemirror_mode": {
    "name": "ipython",
    "version": 3
   },
   "file_extension": ".py",
   "mimetype": "text/x-python",
   "name": "python",
   "nbconvert_exporter": "python",
   "pygments_lexer": "ipython3",
   "version": "3.6.1"
  }
 },
 "nbformat": 4,
 "nbformat_minor": 2
}
